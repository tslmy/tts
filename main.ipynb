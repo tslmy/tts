{
 "cells": [
  {
   "cell_type": "markdown",
   "metadata": {},
   "source": [
    "# My Webpage-to-Audio tool"
   ]
  },
  {
   "cell_type": "code",
   "execution_count": 1,
   "metadata": {},
   "outputs": [],
   "source": [
    "# conda install -c conda-forge newspaper3k\n",
    "from newspaper import Article\n",
    "\n",
    "from textblob import TextBlob\n",
    "\n",
    "import io"
   ]
  },
  {
   "cell_type": "markdown",
   "metadata": {},
   "source": [
    "## Scrape the webpage"
   ]
  },
  {
   "cell_type": "code",
   "execution_count": 5,
   "metadata": {},
   "outputs": [],
   "source": [
    "url = 'https://martinfowler.com/articles/developer-effectiveness.html'\n",
    "article = Article(url)\n",
    "article.download()\n",
    "article.parse()\n",
    "\n",
    "blob = TextBlob(article.text)"
   ]
  },
  {
   "cell_type": "code",
   "execution_count": 2,
   "metadata": {},
   "outputs": [],
   "source": [
    "# For dev, let's use this subset:\n",
    "blob = TextBlob('''Tim Cochran is a Technical Director for the US East Market at ThoughtWorks. Tim has over 19 years of experience leading work across start-ups and large enterprises in various domains such as retail, financial services, and government. He advises organizations on technology strategy and making the right technology investments to enable digital transformation goals. He is a vocal advocate for the developer experience and passionate about using data-driven approaches to improve it.''')"
   ]
  },
  {
   "cell_type": "markdown",
   "metadata": {},
   "source": [
    "## Text-to-Speech\n",
    "This is done by calling the service at `localhost:5002`, powered by [synesthesiam/docker-mozillatts](https://github.com/synesthesiam/docker-mozillatts)."
   ]
  },
  {
   "cell_type": "markdown",
   "metadata": {},
   "source": [
    "### Via `aiohttp`"
   ]
  },
  {
   "cell_type": "code",
   "execution_count": 6,
   "metadata": {},
   "outputs": [],
   "source": [
    "import asyncio\n",
    "import aiohttp\n",
    "# Req'd for Jupyter.\n",
    "import nest_asyncio\n",
    "nest_asyncio.apply()\n",
    "\n",
    "async def fetch(client, sentence):\n",
    "    async with client.post('http://localhost:5002/api/tts', data=sentence) as resp:\n",
    "        if resp.status != 200:\n",
    "            print(f'Failed at \"{sentence}\": {resp.status}: {resp.reason}')\n",
    "            return sentence, None\n",
    "        # Get WAV as binary.\n",
    "        wave = await resp.content.read()\n",
    "        return sentence, wave\n",
    "\n",
    "    \n",
    "sent_to_wave = dict()\n",
    "async def main():\n",
    "    async with aiohttp.ClientSession() as client:\n",
    "        futures = []\n",
    "        for sentence in blob.sentences:\n",
    "            sentence_str = str(sentence).replace('\\n', '. ').encode('utf-8')\n",
    "            future = fetch(client, sentence_str)\n",
    "            futures.append(future)\n",
    "        responses = await asyncio.gather(*futures)\n",
    "        \n",
    "        # Convert to dict:\n",
    "        for sent, wave in responses:\n",
    "            if not wave: continue\n",
    "            sent_to_wave[sent] = wave\n",
    "\n",
    "loop = asyncio.get_event_loop()\n",
    "loop.run_until_complete(main())"
   ]
  },
  {
   "cell_type": "markdown",
   "metadata": {},
   "source": [
    "The requests used to fail when I used the vanilla Docker Image [`synesthesiam/docker-mozillatts`](https://github.com/synesthesiam/docker-mozillatts). After my fix at [this commit](https://github.com/tslmy/tts/commit/78a28a2763646132c042356408adafbd63cba2ee), things went on well."
   ]
  },
  {
   "cell_type": "markdown",
   "metadata": {},
   "source": [
    "### Via `requests`"
   ]
  },
  {
   "cell_type": "code",
   "execution_count": 3,
   "metadata": {},
   "outputs": [],
   "source": [
    "import requests\n",
    "from tqdm import tqdm"
   ]
  },
  {
   "cell_type": "code",
   "execution_count": 4,
   "metadata": {},
   "outputs": [
    {
     "name": "stderr",
     "output_type": "stream",
     "text": [
      "Sentences: 100%|██████████| 4/4 [00:11<00:00,  2.77s/it]\n"
     ]
    }
   ],
   "source": [
    "sent_to_wave = dict()\n",
    "with tqdm(blob.sentences, desc='Sentences') as pbar:\n",
    "    for sentence in pbar:\n",
    "        resp = requests.post('http://localhost:5002/api/tts', data = str(sentence))\n",
    "        if resp.status_code != requests.codes.ok:\n",
    "            print(f'Failed at \"{sentence}\": {resp.status}: {resp.reason}')\n",
    "            continue\n",
    "        # else:\n",
    "        sent_to_wave[str(sentence)] = resp.content"
   ]
  },
  {
   "cell_type": "markdown",
   "metadata": {},
   "source": [
    "## Audio Manipulation"
   ]
  },
  {
   "cell_type": "markdown",
   "metadata": {},
   "source": [
    "### Via `wave`"
   ]
  },
  {
   "cell_type": "markdown",
   "metadata": {},
   "source": [
    "One approach is via the `wave` package. See [this](https://stackoverflow.com/a/2900266/1147061)."
   ]
  },
  {
   "cell_type": "code",
   "execution_count": 39,
   "metadata": {},
   "outputs": [],
   "source": [
    "import wave\n",
    "\n",
    "sent_to_frames = dict()\n",
    "sent_to_durations = dict()\n",
    "wave_params = None\n",
    "for sentence, wave_bytes in sent_to_wave.items():\n",
    "    wave_file_io = io.BytesIO(wave_bytes)\n",
    "    with wave.open(wave_file_io, 'rb') as wave_file:\n",
    "        if not wave_params:\n",
    "            wave_params = wave_file.getparams()\n",
    "        \n",
    "        # get audio content:\n",
    "        num_frames = wave_file.getnframes()\n",
    "        frames = wave_file.readframes(num_frames)\n",
    "        sent_to_frames[sentence] = frames\n",
    "        \n",
    "        # get duration:\n",
    "        duration = num_frames / wave_file.getframerate()\n",
    "        sent_to_durations[sentence] = duration"
   ]
  },
  {
   "cell_type": "code",
   "execution_count": 40,
   "metadata": {},
   "outputs": [
    {
     "data": {
      "text/plain": [
       "{'Tim Cochran is a Technical Director for the US East Market at ThoughtWorks.': 5.050340136054421,\n",
       " 'Tim has over 19 years of experience leading work across start-ups and large enterprises in various domains such as retail, financial services, and government.': 11.563537414965987,\n",
       " 'He advises organizations on technology strategy and making the right technology investments to enable digital transformation goals.': 9.195102040816327,\n",
       " 'He is a vocal advocate for the developer experience and passionate about using data-driven approaches to improve it.': 7.1401360544217685}"
      ]
     },
     "execution_count": 40,
     "metadata": {},
     "output_type": "execute_result"
    }
   ],
   "source": [
    "sent_to_durations"
   ]
  },
  {
   "cell_type": "code",
   "execution_count": 42,
   "metadata": {},
   "outputs": [
    {
     "name": "stderr",
     "output_type": "stream",
     "text": [
      "Sentences: 100%|██████████| 4/4 [00:00<00:00, 1856.30it/s]\n"
     ]
    }
   ],
   "source": [
    "# Combine sentences into one wav file:\n",
    "with wave.open('output.wav', 'wb') as wave_file:\n",
    "    wave_file.setparams(wave_params)\n",
    "    with tqdm(blob.sentences, desc='Sentences') as pbar:\n",
    "        for sentence in pbar:\n",
    "            frames = sent_to_frames[str(sentence)]\n",
    "            wave_file.writeframes(frames)"
   ]
  },
  {
   "cell_type": "code",
   "execution_count": 43,
   "metadata": {},
   "outputs": [
    {
     "name": "stdout",
     "output_type": "stream",
     "text": [
      "\n",
      "output.wav:\n",
      "\n",
      " File Size: 1.45M     Bit Rate: 353k\n",
      "  Encoding: Signed PCM    \n",
      "  Channels: 1 @ 16-bit   \n",
      "Samplerate: 22050Hz      \n",
      "Replaygain: off         \n",
      "  Duration: 00:00:32.95  \n",
      "\n",
      "In:100%  00:00:32.95 [00:00:00.00] Out:1.45M [      |      ] Hd:4.8 Clip:21   \n",
      "play WARN rate: rate clipped 7 samples; decrease volume?\n",
      "play WARN sox: `coreaudio' output clipped 14 samples; decrease volume?\n",
      "Done.\n"
     ]
    }
   ],
   "source": [
    "!play output.wav"
   ]
  },
  {
   "cell_type": "markdown",
   "metadata": {},
   "source": [
    "### Via `pydub`"
   ]
  },
  {
   "cell_type": "code",
   "execution_count": 5,
   "metadata": {},
   "outputs": [],
   "source": [
    "from pydub import AudioSegment # conda install pydub -c conda-forge -y"
   ]
  },
  {
   "cell_type": "code",
   "execution_count": 9,
   "metadata": {},
   "outputs": [],
   "source": [
    "sent_to_segments = dict()\n",
    "for sentence, wave_bytes in sent_to_wave.items():\n",
    "    wave_file_io = io.BytesIO(wave_bytes)\n",
    "    segment = AudioSegment.from_file(wave_file_io, format=\"wav\")\n",
    "    sent_to_segments[sentence] = segment"
   ]
  },
  {
   "cell_type": "code",
   "execution_count": 18,
   "metadata": {},
   "outputs": [],
   "source": [
    "silence = AudioSegment.silent(duration=400) # in ms"
   ]
  },
  {
   "cell_type": "code",
   "execution_count": 21,
   "metadata": {},
   "outputs": [],
   "source": [
    "# Combine the sentences:\n",
    "playlist = AudioSegment.empty()\n",
    "for sentence in blob.sentences:\n",
    "    segment = sent_to_segments[str(sentence)]\n",
    "    playlist += segment + silence"
   ]
  },
  {
   "cell_type": "code",
   "execution_count": 20,
   "metadata": {},
   "outputs": [],
   "source": [
    "from pydub.playback import play\n",
    "play(playlist)"
   ]
  },
  {
   "cell_type": "code",
   "execution_count": 36,
   "metadata": {},
   "outputs": [
    {
     "data": {
      "text/plain": [
       "0"
      ]
     },
     "execution_count": 36,
     "metadata": {},
     "output_type": "execute_result"
    }
   ],
   "source": [
    "# Convert to an in-memory WAV file:\n",
    "out_bytes = io.BytesIO()\n",
    "playlist.export(out_bytes, format='wav')\n",
    "out_bytes.seek(0)\n"
   ]
  },
  {
   "cell_type": "code",
   "execution_count": 37,
   "metadata": {},
   "outputs": [],
   "source": [
    "with open('out.wav', 'wb') as f:\n",
    "    f.write(out_bytes.read())"
   ]
  },
  {
   "cell_type": "code",
   "execution_count": 38,
   "metadata": {},
   "outputs": [
    {
     "name": "stdout",
     "output_type": "stream",
     "text": [
      "2976 out.wav\n"
     ]
    }
   ],
   "source": [
    "!ls -s out.wav"
   ]
  },
  {
   "cell_type": "code",
   "execution_count": 39,
   "metadata": {},
   "outputs": [
    {
     "name": "stdout",
     "output_type": "stream",
     "text": [
      "\n",
      "out.wav:\n",
      "\n",
      " File Size: 1.52M     Bit Rate: 353k\n",
      "  Encoding: Signed PCM    \n",
      "  Channels: 1 @ 16-bit   \n",
      "Samplerate: 22050Hz      \n",
      "Replaygain: off         \n",
      "  Duration: 00:00:34.55  \n",
      "\n",
      "In:100%  00:00:34.55 [00:00:00.00] Out:1.52M [      |      ]        Clip:21   \n",
      "play WARN rate: rate clipped 7 samples; decrease volume?\n",
      "play WARN sox: `coreaudio' output clipped 14 samples; decrease volume?\n",
      "Done.\n"
     ]
    }
   ],
   "source": [
    "!play out.wav"
   ]
  },
  {
   "cell_type": "code",
   "execution_count": null,
   "metadata": {},
   "outputs": [],
   "source": []
  }
 ],
 "metadata": {
  "kernelspec": {
   "display_name": "Python 3",
   "language": "python",
   "name": "python3"
  },
  "language_info": {
   "codemirror_mode": {
    "name": "ipython",
    "version": 3
   },
   "file_extension": ".py",
   "mimetype": "text/x-python",
   "name": "python",
   "nbconvert_exporter": "python",
   "pygments_lexer": "ipython3",
   "version": "3.9.1"
  }
 },
 "nbformat": 4,
 "nbformat_minor": 4
}
